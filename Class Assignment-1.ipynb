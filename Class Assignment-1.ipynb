{
 "cells": [
  {
   "cell_type": "code",
   "execution_count": 1,
   "metadata": {},
   "outputs": [],
   "source": [
    "class SubfieldsInAI():\n",
    "    def subfields():\n",
    "        a=('''Sub-fields in AI are:\n",
    "Machine Learning\n",
    "Neural Networks\n",
    "Vision\n",
    "Robotics\n",
    "Speech Processing\n",
    "Natural Language Processing''')\n",
    "        return a"
   ]
  },
  {
   "cell_type": "code",
   "execution_count": 3,
   "metadata": {},
   "outputs": [],
   "source": [
    "memory=SubfieldsInAI.subfields()"
   ]
  },
  {
   "cell_type": "code",
   "execution_count": 4,
   "metadata": {},
   "outputs": [
    {
     "name": "stdout",
     "output_type": "stream",
     "text": [
      "Sub-fields in AI are:\n",
      "Machine Learning\n",
      "Neural Networks\n",
      "Vision\n",
      "Robotics\n",
      "Speech Processing\n",
      "Natural Language Processing\n"
     ]
    }
   ],
   "source": [
    "print(memory)"
   ]
  },
  {
   "cell_type": "code",
   "execution_count": null,
   "metadata": {},
   "outputs": [],
   "source": [
    "#odd_Even"
   ]
  },
  {
   "cell_type": "code",
   "execution_count": 7,
   "metadata": {},
   "outputs": [],
   "source": [
    "class oddEven():\n",
    "    def oddEven():\n",
    "        Num=(int(input(\"Enter a number:\")))\n",
    "        if (Num%2 == 0):\n",
    "            result=(str(Num)+\" is Even number\")\n",
    "        else:\n",
    "            result=(str(Num)+\" is odd number\")\n",
    "        return result"
   ]
  },
  {
   "cell_type": "code",
   "execution_count": 8,
   "metadata": {},
   "outputs": [
    {
     "name": "stdout",
     "output_type": "stream",
     "text": [
      "Enter a number:78\n"
     ]
    }
   ],
   "source": [
    "Answer=oddEven.oddEven()"
   ]
  },
  {
   "cell_type": "code",
   "execution_count": 9,
   "metadata": {},
   "outputs": [
    {
     "name": "stdout",
     "output_type": "stream",
     "text": [
      "78 is Even number\n"
     ]
    }
   ],
   "source": [
    "print(Answer)"
   ]
  },
  {
   "cell_type": "code",
   "execution_count": 10,
   "metadata": {},
   "outputs": [
    {
     "name": "stdout",
     "output_type": "stream",
     "text": [
      "Enter a number:78\n"
     ]
    },
    {
     "data": {
      "text/plain": [
       "'78 is Even number'"
      ]
     },
     "execution_count": 10,
     "metadata": {},
     "output_type": "execute_result"
    }
   ],
   "source": [
    "oddEven.oddEven()"
   ]
  },
  {
   "cell_type": "code",
   "execution_count": null,
   "metadata": {},
   "outputs": [],
   "source": [
    "# ElegiblityForMarriage.Elegible()"
   ]
  },
  {
   "cell_type": "code",
   "execution_count": 23,
   "metadata": {},
   "outputs": [],
   "source": [
    "class ElegiblityForMarriage():\n",
    "    def Elegible():\n",
    "        gen=input(\"Enter your Gender:\")\n",
    "        age=int(input(\"Enter your age:\"))\n",
    "        gen1='''Your Gender:'''+gen\n",
    "        age1='''Your Gender:'''+str(age)\n",
    "        if (gen=='male' and age>21):\n",
    "            el='ELIGIBLE'\n",
    "        elif (gen=='female' and age>18):\n",
    "            el='ELIGIBLE'\n",
    "        else:    \n",
    "            el=' Not ELIGIBLE'\n",
    "        return gen1,age1,el"
   ]
  },
  {
   "cell_type": "code",
   "execution_count": 28,
   "metadata": {},
   "outputs": [
    {
     "name": "stdout",
     "output_type": "stream",
     "text": [
      "Enter your Gender:Male\n",
      "Enter your age:12\n"
     ]
    }
   ],
   "source": [
    "Ele=ElegiblityForMarriage.Elegible()"
   ]
  },
  {
   "cell_type": "code",
   "execution_count": 29,
   "metadata": {},
   "outputs": [
    {
     "name": "stdout",
     "output_type": "stream",
     "text": [
      "('Your Gender:Male', 'Your Gender:12', ' Not ELIGIBLE')\n"
     ]
    }
   ],
   "source": [
    "print(Ele)"
   ]
  },
  {
   "cell_type": "code",
   "execution_count": 2,
   "metadata": {},
   "outputs": [],
   "source": [
    "class findPercent():\n",
    "    def percentage():        \n",
    "        s1=int(input(\"Enter te subject1 mark:\"))\n",
    "        s2=int(input(\"Enter te subject2 mark:\"))\n",
    "        s3=int(input(\"Enter te subject3 mark:\"))\n",
    "        s4=int(input(\"Enter te subject4 mark:\"))\n",
    "        s5=int(input(\"Enter te subject5 mark:\"))\n",
    "        tot=s1+s2+s3+s4+s5\n",
    "        per=tot/5\n",
    "        print(\"Total:\",tot)\n",
    "        print(\"Percentage:\",per)\n"
   ]
  },
  {
   "cell_type": "code",
   "execution_count": 3,
   "metadata": {},
   "outputs": [
    {
     "name": "stdout",
     "output_type": "stream",
     "text": [
      "Enter te subject1 mark:98\n",
      "Enter te subject2 mark:97\n",
      "Enter te subject3 mark:87\n",
      "Enter te subject4 mark:99\n",
      "Enter te subject5 mark:90\n",
      "Total: 471\n",
      "Percentage: 94.2\n"
     ]
    }
   ],
   "source": [
    "findPercent.percentage()"
   ]
  },
  {
   "cell_type": "code",
   "execution_count": 4,
   "metadata": {},
   "outputs": [],
   "source": [
    "class triangle():\n",
    "    def triangle():\n",
    "        Height=int(input(\"Enter the height:\"))\n",
    "        Breadth=int(input(\"Enter the Breadth:\"))\n",
    "        A=(Height*Breadth)/2\n",
    "\n",
    "        Height1=int(input(\"Enter the height1:\"))\n",
    "        Height2=int(input(\"Enter the height2:\"))\n",
    "        Breadth1=int(input(\"Enter the Breadth1:\"))\n",
    "        P= Height1+Height2+Breadth1      \n",
    "\n",
    "        print(\"Height:\",Height) \n",
    "        print(\"Breadth:\",Breadth)     \n",
    "        print(\"Area formula:(Height*Breadth)/2\")\n",
    "        Area=(\"Area of Triangle:\"+str(A))\n",
    "        print(\"Area of Triangle:\",A)\n",
    "\n",
    "        print(\"Height1:\",Height1) \n",
    "        print(\"Height2:\",Height2)\n",
    "        print(\"Breadth1:\",Breadth1) \n",
    "        print(\"perimeter formula:(Height1+Height2+Breadth)\")\n",
    "        Perimeter=(\"Perimeter of Triagnle:\"+str(P))\n",
    "        print(\"Perimeter of Triagnle:\",P)\n",
    "\n",
    "        return Area,Perimeter     "
   ]
  },
  {
   "cell_type": "code",
   "execution_count": 5,
   "metadata": {},
   "outputs": [
    {
     "name": "stdout",
     "output_type": "stream",
     "text": [
      "Enter the height:32\n",
      "Enter the Breadth:34\n",
      "Enter the height1:2\n",
      "Enter the height2:4\n",
      "Enter the Breadth1:4\n",
      "Height: 32\n",
      "Breadth: 34\n",
      "Area formula:(Height*Breadth)/2\n",
      "Area of Triangle: 544.0\n",
      "Height1: 2\n",
      "Height2: 4\n",
      "Breadth1: 4\n",
      "perimeter formula:(Height1+Height2+Breadth)\n",
      "Perimeter of Triagnle: 10\n"
     ]
    },
    {
     "data": {
      "text/plain": [
       "('Area of Triangle:544.0', 'Perimeter of Triagnle:10')"
      ]
     },
     "execution_count": 5,
     "metadata": {},
     "output_type": "execute_result"
    }
   ],
   "source": [
    "triangle.triangle()\n"
   ]
  }
 ],
 "metadata": {
  "kernelspec": {
   "display_name": "Python 3",
   "language": "python",
   "name": "python3"
  },
  "language_info": {
   "codemirror_mode": {
    "name": "ipython",
    "version": 3
   },
   "file_extension": ".py",
   "mimetype": "text/x-python",
   "name": "python",
   "nbconvert_exporter": "python",
   "pygments_lexer": "ipython3",
   "version": "3.7.4"
  }
 },
 "nbformat": 4,
 "nbformat_minor": 2
}
