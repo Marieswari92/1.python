{
 "cells": [
  {
   "cell_type": "code",
   "execution_count": 1,
   "metadata": {},
   "outputs": [
    {
     "name": "stdout",
     "output_type": "stream",
     "text": [
      "HOPE AI\n"
     ]
    }
   ],
   "source": [
    "print(\"HOPE AI\")"
   ]
  },
  {
   "cell_type": "code",
   "execution_count": 6,
   "metadata": {},
   "outputs": [
    {
     "name": "stdout",
     "output_type": "stream",
     "text": [
      "Enter Your Institute Name?:Hope AI\n"
     ]
    }
   ],
   "source": [
    "Name=(input(\"Enter Your Institute Name?:\"))"
   ]
  },
  {
   "cell_type": "code",
   "execution_count": 7,
   "metadata": {},
   "outputs": [
    {
     "name": "stdout",
     "output_type": "stream",
     "text": [
      "Enter Your Name:marieswari jagadeesh\n",
      "Enter Your Age:30\n",
      "Enter Your Degree:BCA\n",
      "Enter Your School name:MKU\n"
     ]
    }
   ],
   "source": [
    "Name=(input(\"Enter Your Name:\"))\n",
    "Age=(input(\"Enter Your Age:\"))\n",
    "Degree=(input(\"Enter Your Degree:\"))\n",
    "School=(input(\"Enter Your School name:\"))"
   ]
  },
  {
   "cell_type": "code",
   "execution_count": 11,
   "metadata": {},
   "outputs": [
    {
     "name": "stdout",
     "output_type": "stream",
     "text": [
      "Enter the first number:23\n",
      "Enter the second number:2\n",
      "a= 23\n",
      "b= 2\n",
      "Add= 25\n",
      "sub= 21\n",
      "Mul= 46\n",
      "Divi= 11.5\n",
      "floor Divi= 11\n",
      "Module= 1\n",
      "power= 529\n"
     ]
    }
   ],
   "source": [
    "a=int(input(\"Enter the first number:\"))\n",
    "b=int(input(\"Enter the second number:\"))\n",
    "add=a+b\n",
    "print(\"a=\",a)\n",
    "print(\"b=\",b)\n",
    "print(\"Add=\",add)\n",
    "print(\"sub=\",a-b)\n",
    "print(\"Mul=\",a*b)\n",
    "print(\"Divi=\",a/b)\n",
    "print(\"floor Divi=\",a//b)\n",
    "print(\"Module=\",a%b)\n",
    "print(\"power=\",pow(a,b))"
   ]
  },
  {
   "cell_type": "code",
   "execution_count": null,
   "metadata": {},
   "outputs": [],
   "source": []
  }
 ],
 "metadata": {
  "kernelspec": {
   "display_name": "Python 3",
   "language": "python",
   "name": "python3"
  },
  "language_info": {
   "codemirror_mode": {
    "name": "ipython",
    "version": 3
   },
   "file_extension": ".py",
   "mimetype": "text/x-python",
   "name": "python",
   "nbconvert_exporter": "python",
   "pygments_lexer": "ipython3",
   "version": "3.7.4"
  }
 },
 "nbformat": 4,
 "nbformat_minor": 2
}
