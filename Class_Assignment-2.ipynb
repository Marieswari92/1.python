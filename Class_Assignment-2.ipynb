{
 "cells": [
  {
   "cell_type": "code",
   "execution_count": 1,
   "metadata": {},
   "outputs": [],
   "source": [
    "from classAssignment_2 import SubfieldsInAI\n",
    "from classAssignment_2 import oddEven\n",
    "from classAssignment_2 import ElegiblityForMarriage\n",
    "from classAssignment_2 import findPercent\n",
    "from classAssignment_2 import triangle"
   ]
  },
  {
   "cell_type": "code",
   "execution_count": 2,
   "metadata": {},
   "outputs": [
    {
     "data": {
      "text/plain": [
       "'Sub-fields in AI are:\\nMachine Learning\\nNeural Networks\\nVision\\nRobotics\\nSpeech Processing\\nNatural Language Processing'"
      ]
     },
     "execution_count": 2,
     "metadata": {},
     "output_type": "execute_result"
    }
   ],
   "source": [
    "SubfieldsInAI.subfields()"
   ]
  },
  {
   "cell_type": "code",
   "execution_count": 3,
   "metadata": {},
   "outputs": [
    {
     "name": "stdout",
     "output_type": "stream",
     "text": [
      "Enter a number:8\n"
     ]
    },
    {
     "data": {
      "text/plain": [
       "'8 is Even number'"
      ]
     },
     "execution_count": 3,
     "metadata": {},
     "output_type": "execute_result"
    }
   ],
   "source": [
    "oddEven.oddEven()"
   ]
  },
  {
   "cell_type": "code",
   "execution_count": 4,
   "metadata": {},
   "outputs": [
    {
     "name": "stdout",
     "output_type": "stream",
     "text": [
      "Enter your Gender:Male\n",
      "Enter your age:30\n"
     ]
    },
    {
     "data": {
      "text/plain": [
       "('Your Gender:Male', 'Your Gender:30', ' Not ELIGIBLE')"
      ]
     },
     "execution_count": 4,
     "metadata": {},
     "output_type": "execute_result"
    }
   ],
   "source": [
    "ElegiblityForMarriage.Elegible()"
   ]
  },
  {
   "cell_type": "code",
   "execution_count": 5,
   "metadata": {},
   "outputs": [
    {
     "name": "stdout",
     "output_type": "stream",
     "text": [
      "Enter te subject1 mark:98\n",
      "Enter te subject2 mark:97\n",
      "Enter te subject3 mark:87\n",
      "Enter te subject4 mark:98\n",
      "Enter te subject5 mark:99\n",
      "Total: 479\n",
      "Percentage: 95.8\n"
     ]
    }
   ],
   "source": [
    "findPercent.percentage()"
   ]
  },
  {
   "cell_type": "code",
   "execution_count": 6,
   "metadata": {},
   "outputs": [
    {
     "name": "stdout",
     "output_type": "stream",
     "text": [
      "Enter the height:3\n",
      "Enter the Breadth:4\n",
      "Enter the height1:35\n",
      "Enter the height2:4\n",
      "Enter the Breadth1:6\n",
      "Height: 3\n",
      "Breadth: 4\n",
      "Area formula:(Height*Breadth)/2\n",
      "Area of Triangle: 6.0\n",
      "Height1: 35\n",
      "Height2: 4\n",
      "Breadth1: 6\n",
      "perimeter formula:(Height1+Height2+Breadth)\n",
      "Perimeter of Triagnle: 45\n"
     ]
    },
    {
     "data": {
      "text/plain": [
       "('Area of Triangle:6.0', 'Perimeter of Triagnle:45')"
      ]
     },
     "execution_count": 6,
     "metadata": {},
     "output_type": "execute_result"
    }
   ],
   "source": [
    "triangle.triangle()"
   ]
  }
 ],
 "metadata": {
  "kernelspec": {
   "display_name": "Python 3",
   "language": "python",
   "name": "python3"
  },
  "language_info": {
   "codemirror_mode": {
    "name": "ipython",
    "version": 3
   },
   "file_extension": ".py",
   "mimetype": "text/x-python",
   "name": "python",
   "nbconvert_exporter": "python",
   "pygments_lexer": "ipython3",
   "version": "3.7.4"
  }
 },
 "nbformat": 4,
 "nbformat_minor": 2
}
