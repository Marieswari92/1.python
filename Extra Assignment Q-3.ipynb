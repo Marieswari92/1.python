{
 "cells": [
  {
   "cell_type": "code",
   "execution_count": 2,
   "metadata": {},
   "outputs": [
    {
     "name": "stdout",
     "output_type": "stream",
     "text": [
      "enter the value:10\n",
      "correct\n"
     ]
    }
   ],
   "source": [
    "value=int(input(\"enter the value:\"))\n",
    "if value == 10:\n",
    "    print(\"correct\")"
   ]
  },
  {
   "cell_type": "code",
   "execution_count": 4,
   "metadata": {},
   "outputs": [
    {
     "name": "stdout",
     "output_type": "stream",
     "text": [
      "Enter your password:Hope@123\n",
      "Your password is correct\n"
     ]
    }
   ],
   "source": [
    "value=(input(\"Enter your password:\"))\n",
    "if value == \"Hope@123\":\n",
    "    print(\"Your password is correct\")\n",
    "else:\n",
    "     print(\"Your password is not correct\")    "
   ]
  },
  {
   "cell_type": "code",
   "execution_count": 8,
   "metadata": {},
   "outputs": [
    {
     "name": "stdout",
     "output_type": "stream",
     "text": [
      "please Enter your age:24\n",
      "adult\n"
     ]
    }
   ],
   "source": [
    "age=int(input(\"please Enter your age:\"))\n",
    "if (age<18):\n",
    "    print(\"children\")\n",
    "elif (age<25):\n",
    "    print(\"adult\")\n",
    "elif (age<50):\n",
    "    print(\"citizen\")\n",
    "else:\n",
    "    print(\"senior citizen\")"
   ]
  },
  {
   "cell_type": "code",
   "execution_count": 10,
   "metadata": {},
   "outputs": [
    {
     "name": "stdout",
     "output_type": "stream",
     "text": [
      "Enter any number-9\n",
      "The number is negative\n"
     ]
    }
   ],
   "source": [
    "num=int(input(\"Enter any number\"))\n",
    "if (num<1):\n",
    "    print(\"The number is negative\")\n",
    "else:\n",
    "    print(\"The number is postive\")"
   ]
  },
  {
   "cell_type": "code",
   "execution_count": 1,
   "metadata": {},
   "outputs": [
    {
     "name": "stdout",
     "output_type": "stream",
     "text": [
      "Enter any number23\n",
      "The number is not divisiable by 5\n"
     ]
    }
   ],
   "source": [
    "num=int(input(\"Enter any number\"))\n",
    "if (num%5 == 0):\n",
    "    print(\"The number is divisiable by 5\")\n",
    "else:\n",
    "    print(\"The number is not divisiable by 5\")   \n",
    "    "
   ]
  }
 ],
 "metadata": {
  "kernelspec": {
   "display_name": "Python 3",
   "language": "python",
   "name": "python3"
  },
  "language_info": {
   "codemirror_mode": {
    "name": "ipython",
    "version": 3
   },
   "file_extension": ".py",
   "mimetype": "text/x-python",
   "name": "python",
   "nbconvert_exporter": "python",
   "pygments_lexer": "ipython3",
   "version": "3.7.4"
  }
 },
 "nbformat": 4,
 "nbformat_minor": 2
}
