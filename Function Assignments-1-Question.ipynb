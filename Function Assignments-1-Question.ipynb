{
 "cells": [
  {
   "cell_type": "markdown",
   "metadata": {},
   "source": [
    "# Function "
   ]
  },
  {
   "cell_type": "code",
   "execution_count": 40,
   "metadata": {},
   "outputs": [],
   "source": [
    "def Subfields():\n",
    "    a=('''Sub-fields in AI are:\n",
    "Machine Learning\n",
    "Neural Networks\n",
    "Vision\n",
    "Robotics\n",
    "Speech Processing\n",
    "Natural Language Processing''')  \n",
    "    return a"
   ]
  },
  {
   "cell_type": "code",
   "execution_count": 41,
   "metadata": {},
   "outputs": [],
   "source": [
    "memory=Subfields()"
   ]
  },
  {
   "cell_type": "code",
   "execution_count": 42,
   "metadata": {},
   "outputs": [
    {
     "name": "stdout",
     "output_type": "stream",
     "text": [
      "Sub-fields in AI are:\n",
      "Machine Learning\n",
      "Neural Networks\n",
      "Vision\n",
      "Robotics\n",
      "Speech Processing\n",
      "Natural Language Processing\n"
     ]
    }
   ],
   "source": [
    "print(memory)"
   ]
  },
  {
   "cell_type": "code",
   "execution_count": null,
   "metadata": {},
   "outputs": [],
   "source": [
    "# odd even"
   ]
  },
  {
   "cell_type": "code",
   "execution_count": 66,
   "metadata": {},
   "outputs": [],
   "source": [
    "def odd_even():\n",
    "    num=int(input(\"Enter a number:\"))\n",
    "    if (num%2 == 0):\n",
    "        result= str(num)+ \" is Even number\"\n",
    "    else:\n",
    "        result=str(num)+ \" is odd number\"\n",
    "    return result"
   ]
  },
  {
   "cell_type": "code",
   "execution_count": 69,
   "metadata": {},
   "outputs": [
    {
     "name": "stdout",
     "output_type": "stream",
     "text": [
      "Enter a number:8\n"
     ]
    },
    {
     "data": {
      "text/plain": [
       "'8 is Even number'"
      ]
     },
     "execution_count": 69,
     "metadata": {},
     "output_type": "execute_result"
    }
   ],
   "source": [
    "odd_even()"
   ]
  },
  {
   "cell_type": "code",
   "execution_count": 67,
   "metadata": {},
   "outputs": [
    {
     "name": "stdout",
     "output_type": "stream",
     "text": [
      "Enter a number:8\n"
     ]
    }
   ],
   "source": [
    "answer=odd_even()"
   ]
  },
  {
   "cell_type": "code",
   "execution_count": 68,
   "metadata": {},
   "outputs": [
    {
     "name": "stdout",
     "output_type": "stream",
     "text": [
      "8 is Even number\n"
     ]
    }
   ],
   "source": [
    "print(answer)"
   ]
  },
  {
   "cell_type": "code",
   "execution_count": null,
   "metadata": {},
   "outputs": [],
   "source": [
    "# Elegible"
   ]
  },
  {
   "cell_type": "code",
   "execution_count": 82,
   "metadata": {},
   "outputs": [],
   "source": [
    "def Elegible():\n",
    "    gender=input(\"Enter gender:\")\n",
    "    age=int(input(\"Enetr Age:\"))\n",
    "    print(\"Your Gender:\",gender)\n",
    "    print(\"Your Age:\",age)\n",
    "    gen= \"Your Gender:\"+gender\n",
    "    ag=\"Your Age:\"+str(age)    \n",
    "    if age>18:\n",
    "        print(\"Elegible\")\n",
    "        El=\"Elegible\"\n",
    "    else:\n",
    "        print(\"Not Elegible\")\n",
    "        El=\"Not Elegible\"       \n",
    "    return gen,ag,El    "
   ]
  },
  {
   "cell_type": "code",
   "execution_count": 83,
   "metadata": {},
   "outputs": [
    {
     "name": "stdout",
     "output_type": "stream",
     "text": [
      "Enter gender:female\n",
      "Enetr Age:34\n",
      "Your Gender: female\n",
      "Your Age: 34\n",
      "Elegible\n"
     ]
    }
   ],
   "source": [
    "El_an=Elegible()"
   ]
  },
  {
   "cell_type": "code",
   "execution_count": 84,
   "metadata": {},
   "outputs": [
    {
     "name": "stdout",
     "output_type": "stream",
     "text": [
      "('Your Gender:female', 'Your Age:34', 'Elegible')\n"
     ]
    }
   ],
   "source": [
    "print(El_an)"
   ]
  },
  {
   "cell_type": "code",
   "execution_count": null,
   "metadata": {},
   "outputs": [],
   "source": [
    "# percentage"
   ]
  },
  {
   "cell_type": "code",
   "execution_count": 85,
   "metadata": {},
   "outputs": [],
   "source": [
    "def percentage(s1,s2,s3,s4,s5):\n",
    "    total=(s1+s2+s3+s4+s5)\n",
    "    per=total/5\n",
    "    print(\"Total:\",total)\n",
    "    print(\"Percentage:\",per)\n",
    "    return total,per"
   ]
  },
  {
   "cell_type": "code",
   "execution_count": 86,
   "metadata": {},
   "outputs": [
    {
     "name": "stdout",
     "output_type": "stream",
     "text": [
      "Enter the Subject1:45\n",
      "Enter the Subject2:56\n",
      "Enter the Subject3:68\n",
      "Enter the Subject4:78\n",
      "Enter the Subject5:89\n",
      "Total: 336\n",
      "Percentage: 67.2\n"
     ]
    }
   ],
   "source": [
    "s1=int(input(\"Enter the Subject1:\"))\n",
    "s2=int(input(\"Enter the Subject2:\"))\n",
    "s3=int(input(\"Enter the Subject3:\"))\n",
    "s4=int(input(\"Enter the Subject4:\"))\n",
    "s5=int(input(\"Enter the Subject5:\"))\n",
    "\n",
    "total_per=percentage(s1,s2,s3,s4,s5)"
   ]
  },
  {
   "cell_type": "code",
   "execution_count": 87,
   "metadata": {},
   "outputs": [
    {
     "name": "stdout",
     "output_type": "stream",
     "text": [
      "(336, 67.2)\n"
     ]
    }
   ],
   "source": [
    "print(total_per)"
   ]
  },
  {
   "cell_type": "code",
   "execution_count": null,
   "metadata": {},
   "outputs": [],
   "source": [
    "# triangle"
   ]
  },
  {
   "cell_type": "code",
   "execution_count": 91,
   "metadata": {},
   "outputs": [],
   "source": [
    "def triangle():\n",
    "    Height=int(input(\"Enter the height:\"))\n",
    "    Breadth=int(input(\"Enter the Breadth:\"))\n",
    "    A=(Height*Breadth)/2\n",
    "    \n",
    "    Height1=int(input(\"Enter the height1:\"))\n",
    "    Height2=int(input(\"Enter the height2:\"))\n",
    "    Breadth1=int(input(\"Enter the Breadth1:\"))\n",
    "    P= Height1+Height2+Breadth1      \n",
    "   \n",
    "    print(\"Height:\",Height) \n",
    "    print(\"Breadth:\",Breadth)     \n",
    "    print(\"Area formula:(Height*Breadth)/2\")\n",
    "    Area=(\"Area of Triangle:\"+str(A))\n",
    "    print(\"Area of Triangle:\",A)\n",
    "    \n",
    "    print(\"Height1:\",Height1) \n",
    "    print(\"Height2:\",Height2)\n",
    "    print(\"Breadth1:\",Breadth1) \n",
    "    print(\"perimeter formula:(Height1+Height2+Breadth)\")\n",
    "    Perimeter=(\"Perimeter of Triagnle:\"+str(P))\n",
    "    print(\"Perimeter of Triagnle:\",P)\n",
    "          \n",
    "    return Area,Perimeter     \n"
   ]
  },
  {
   "cell_type": "code",
   "execution_count": 92,
   "metadata": {},
   "outputs": [
    {
     "name": "stdout",
     "output_type": "stream",
     "text": [
      "Enter the height:3\n",
      "Enter the Breadth:4\n",
      "Enter the height1:3\n",
      "Enter the height2:4\n",
      "Enter the Breadth1:45\n",
      "Height: 3\n",
      "Breadth: 4\n",
      "Area formula:(Height*Breadth)/2\n",
      "Area of Triangle: 6.0\n",
      "Height1: 3\n",
      "Height2: 4\n",
      "Breadth1: 45\n",
      "perimeter formula:(Height1+Height2+Breadth)\n",
      "Perimeter of Triagnle: 52\n"
     ]
    }
   ],
   "source": [
    "TRI=triangle()"
   ]
  },
  {
   "cell_type": "code",
   "execution_count": 93,
   "metadata": {},
   "outputs": [
    {
     "name": "stdout",
     "output_type": "stream",
     "text": [
      "('Area of Triangle:6.0', 'Perimeter of Triagnle:52')\n"
     ]
    }
   ],
   "source": [
    "print(TRI)"
   ]
  }
 ],
 "metadata": {
  "kernelspec": {
   "display_name": "Python 3",
   "language": "python",
   "name": "python3"
  },
  "language_info": {
   "codemirror_mode": {
    "name": "ipython",
    "version": 3
   },
   "file_extension": ".py",
   "mimetype": "text/x-python",
   "name": "python",
   "nbconvert_exporter": "python",
   "pygments_lexer": "ipython3",
   "version": "3.7.4"
  }
 },
 "nbformat": 4,
 "nbformat_minor": 2
}
