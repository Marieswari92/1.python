{
 "cells": [
  {
   "cell_type": "code",
   "execution_count": 1,
   "metadata": {},
   "outputs": [
    {
     "name": "stdout",
     "output_type": "stream",
     "text": [
      "welcome\n"
     ]
    }
   ],
   "source": [
    "print(\"welcome\")"
   ]
  },
  {
   "cell_type": "code",
   "execution_count": 2,
   "metadata": {},
   "outputs": [
    {
     "name": "stdout",
     "output_type": "stream",
     "text": [
      "Welcome to Assignment-1\n"
     ]
    }
   ],
   "source": [
    "print(\"Welcome to Assignment-1\")"
   ]
  },
  {
   "cell_type": "code",
   "execution_count": 3,
   "metadata": {},
   "outputs": [
    {
     "name": "stdout",
     "output_type": "stream",
     "text": [
      "Enter the first num:10\n",
      "Enter the second num:30\n",
      "Num1= 10\n",
      "Num2= 30\n",
      "Add= 40\n"
     ]
    }
   ],
   "source": [
    "num1=int(input(\"Enter the first num:\"))\n",
    "num2=int(input(\"Enter the second num:\"))\n",
    "print(\"Num1=\",num1)\n",
    "print(\"Num2=\",num2)\n",
    "print(\"Add=\",num1+num2)"
   ]
  },
  {
   "cell_type": "markdown",
   "metadata": {},
   "source": [
    "# BMI Calculator"
   ]
  },
  {
   "cell_type": "code",
   "execution_count": 4,
   "metadata": {},
   "outputs": [
    {
     "name": "stdout",
     "output_type": "stream",
     "text": [
      "Welcome to our BMI Advisor\n",
      "please enter your weight in kg:65\n",
      "please enter your height in cm:165\n",
      "Your BMI is: 24\n",
      "Normal (healthy weight)\n"
     ]
    }
   ],
   "source": [
    "print(\"Welcome to our BMI Advisor\")\n",
    "weight=int(input(\"please enter your weight in kg:\"))\n",
    "height=int(input(\"please enter your height in cm:\"))\n",
    "h_m = height/100\n",
    "BMI=(weight/(pow(h_m,2)))\n",
    "print(\"Your BMI is:\",round(BMI))\n",
    "    \n",
    "if (BMI<15):\n",
    "    print(\"Very severely underweight\")\n",
    "elif(BMI>15 and BMI<16):\n",
    "    print(\"Severely underweight\")\n",
    "elif(BMI>16 and BMI<18.5):\n",
    "    print(\"Underweight\")\n",
    "elif(BMI>18.5 and BMI<25):\n",
    "    print(\"Normal (healthy weight)\")\n",
    "elif(BMI>25 and BMI<30):\n",
    "    print(\"Overweight\")\n",
    "elif(BMI>30 and BMI<35):\n",
    "    print(\"Moderately obese\")\n",
    "elif(BMI>35 and BMI<40):\n",
    "    print(\"Severely obese\")\n",
    "else:\n",
    "    print(\"Very severely obese\")    "
   ]
  },
  {
   "cell_type": "code",
   "execution_count": null,
   "metadata": {},
   "outputs": [],
   "source": []
  }
 ],
 "metadata": {
  "kernelspec": {
   "display_name": "Python 3",
   "language": "python",
   "name": "python3"
  },
  "language_info": {
   "codemirror_mode": {
    "name": "ipython",
    "version": 3
   },
   "file_extension": ".py",
   "mimetype": "text/x-python",
   "name": "python",
   "nbconvert_exporter": "python",
   "pygments_lexer": "ipython3",
   "version": "3.7.4"
  }
 },
 "nbformat": 4,
 "nbformat_minor": 2
}
