{
 "cells": [
  {
   "cell_type": "markdown",
   "metadata": {},
   "source": [
    "# Small calculator"
   ]
  },
  {
   "cell_type": "code",
   "execution_count": 4,
   "metadata": {},
   "outputs": [
    {
     "name": "stdout",
     "output_type": "stream",
     "text": [
      "Enter the first number:3456\n",
      "Enter the second number:34\n",
      "The Basic operation\n",
      "The Addition of 3456 and 34 is: 3490\n",
      "The Subtraction of 3456 and 34 is: 3422\n",
      "The Multiplication of 3456 and 34 is: 117504\n",
      "The Division of 3456 and 34 is: 102 1\n",
      "The Module of 3456 and 34 is: 22\n"
     ]
    }
   ],
   "source": [
    "First_number=int(input(\"Enter the first number:\"))\n",
    "Second_number=int(input(\"Enter the second number:\"))\n",
    "\n",
    "print(\"The Basic operation\")\n",
    "print(\"The Addition of\",First_number,\"and\",Second_number,\"is:\",First_number+Second_number)\n",
    "print(\"The Subtraction of\",First_number,\"and\",Second_number,\"is:\",First_number-Second_number)\n",
    "print(\"The Multiplication of\",First_number,\"and\",Second_number,\"is:\",First_number*Second_number)\n",
    "print(\"The Division of\",First_number,\"and\",Second_number,\"is:\",round(First_number/Second_number),1)\n",
    "print(\"The Module of\",First_number,\"and\",Second_number,\"is:\",First_number%Second_number)\n",
    "\n"
   ]
  },
  {
   "cell_type": "markdown",
   "metadata": {},
   "source": [
    "# Error handling"
   ]
  },
  {
   "cell_type": "code",
   "execution_count": 2,
   "metadata": {},
   "outputs": [
    {
     "name": "stdout",
     "output_type": "stream",
     "text": [
      "Please enter the small letter of print\n"
     ]
    }
   ],
   "source": [
    "try:\n",
    "    Print(\"Welcome to Madurai\")\n",
    "except NameError:\n",
    "    print(\"Please correct the small letter of print\")"
   ]
  },
  {
   "cell_type": "code",
   "execution_count": 7,
   "metadata": {},
   "outputs": [
    {
     "name": "stdout",
     "output_type": "stream",
     "text": [
      "welcome to madurai\n"
     ]
    }
   ],
   "source": [
    "print(\"welcome to madurai\")  \n",
    "          "
   ]
  },
  {
   "cell_type": "code",
   "execution_count": 9,
   "metadata": {},
   "outputs": [
    {
     "name": "stdout",
     "output_type": "stream",
     "text": [
      "0\n",
      "5\n"
     ]
    }
   ],
   "source": [
    "for x in range(0,10,5):\n",
    "    print(x)"
   ]
  }
 ],
 "metadata": {
  "kernelspec": {
   "display_name": "Python 3",
   "language": "python",
   "name": "python3"
  },
  "language_info": {
   "codemirror_mode": {
    "name": "ipython",
    "version": 3
   },
   "file_extension": ".py",
   "mimetype": "text/x-python",
   "name": "python",
   "nbconvert_exporter": "python",
   "pygments_lexer": "ipython3",
   "version": "3.7.4"
  }
 },
 "nbformat": 4,
 "nbformat_minor": 2
}
