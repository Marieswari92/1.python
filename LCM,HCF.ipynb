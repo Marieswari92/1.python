{
 "cells": [
  {
   "cell_type": "code",
   "execution_count": 6,
   "metadata": {},
   "outputs": [
    {
     "name": "stdout",
     "output_type": "stream",
     "text": [
      "Enter the first number:12\n",
      "Enter the first number:14\n",
      "The gcd of 12 and 14 is: 2\n",
      "The lcm of 12 and 14 is: 84.0\n"
     ]
    }
   ],
   "source": [
    "#Euclid's algoritham\n",
    "\n",
    "def gcd(a,b):\n",
    "    while (a!=b):\n",
    "        if (a>b):\n",
    "            a=a-b\n",
    "        else:\n",
    "            b=b-a\n",
    "    return a\n",
    "\n",
    "def lcm(a,b):\n",
    "    return(a*b/gcd(a,b))\n",
    "\n",
    "a=int(input(\"Enter the first number:\"))\n",
    "b=int(input(\"Enter the first number:\"))\n",
    "\n",
    "gcd(a,b)\n",
    "lcm(a,b)\n",
    "print(\"The gcd of\",a,\"and\",b,\"is:\",gcd(a,b))\n",
    "print(\"The lcm of\",a,\"and\",b,\"is:\",lcm(a,b))\n"
   ]
  },
  {
   "cell_type": "code",
   "execution_count": 7,
   "metadata": {},
   "outputs": [
    {
     "name": "stdout",
     "output_type": "stream",
     "text": [
      "enter the first number:2\n",
      "enter the second number:4\n"
     ]
    },
    {
     "data": {
      "text/plain": [
       "2"
      ]
     },
     "execution_count": 7,
     "metadata": {},
     "output_type": "execute_result"
    }
   ],
   "source": [
    "# HCF of two number\n",
    "\n",
    "def hcf(x,y):\n",
    "    if (x<y):\n",
    "        smaller=x\n",
    "    else:\n",
    "        smaller=y\n",
    "    for i in range(1,smaller+1):\n",
    "        if (x%i==0 and y%i==0):\n",
    "            hc=i\n",
    "    return hc\n",
    "    \n",
    "x=int(input(\"enter the first number:\"))\n",
    "y=int(input(\"enter the second number:\"))\n",
    "hcf(x,y)     "
   ]
  },
  {
   "cell_type": "code",
   "execution_count": 20,
   "metadata": {},
   "outputs": [],
   "source": [
    "# LCM of two number\n",
    "\n",
    "def lcm(x1,y1):\n",
    "    if (x1>y1):\n",
    "        greater=x1\n",
    "    else:\n",
    "        greater=y1\n",
    "    while(True):\n",
    "        if (greater%x1==0 and greater%y1==0):\n",
    "            lc=greater\n",
    "            break\n",
    "        greater+=1\n",
    "    return lc\n",
    "        "
   ]
  },
  {
   "cell_type": "code",
   "execution_count": 21,
   "metadata": {},
   "outputs": [
    {
     "name": "stdout",
     "output_type": "stream",
     "text": [
      "Enter the first number:3\n",
      "Enter the second number:4\n",
      "12\n"
     ]
    }
   ],
   "source": [
    "x1=int(input(\"Enter the first number:\"))\n",
    "y1=int(input(\"Enter the second number:\"))\n",
    "print(lcm(x1,y1))"
   ]
  },
  {
   "cell_type": "code",
   "execution_count": null,
   "metadata": {},
   "outputs": [],
   "source": []
  }
 ],
 "metadata": {
  "kernelspec": {
   "display_name": "Python 3",
   "language": "python",
   "name": "python3"
  },
  "language_info": {
   "codemirror_mode": {
    "name": "ipython",
    "version": 3
   },
   "file_extension": ".py",
   "mimetype": "text/x-python",
   "name": "python",
   "nbconvert_exporter": "python",
   "pygments_lexer": "ipython3",
   "version": "3.7.4"
  }
 },
 "nbformat": 4,
 "nbformat_minor": 2
}
